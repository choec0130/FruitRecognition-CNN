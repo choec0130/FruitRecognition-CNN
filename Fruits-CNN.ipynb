{
 "cells": [
  {
   "cell_type": "code",
   "execution_count": null,
   "metadata": {},
   "outputs": [],
   "source": [
    "from __future__ import absolute_import\n",
    "from __future__ import division\n",
    "from __future__ import print_function\n",
    "\n",
    "import os\n",
    "import tensorflow as tf\n",
    "import sys\n",
    "import random\n",
    "import dataset\n",
    "\n",
    "import numpy as np\n",
    "import keras\n",
    "from keras import backend as K\n",
    "from keras.models import Sequential\n",
    "from keras.layers import Dense, Conv2D, MaxPooling2D, Dropout, Flatten\n",
    "from keras.optimizers import Adam\n",
    "from keras.metrics import categorical_crossentropy\n",
    "from keras.preprocessing.image import ImageDataGenerator\n",
    "from keras.layers.normalization import BatchNormalization\n",
    "from keras.layers.convolutional import *\n",
    "from keras.applications import vgg16\n",
    "from matplotlib import pyplot as plt\n",
    "import itertools\n",
    "import matplotlib.pyplot as plt\n",
    "%matplotlib inline\n",
    "\n"
   ]
  },
  {
   "cell_type": "code",
   "execution_count": null,
   "metadata": {},
   "outputs": [],
   "source": [
    "IMAGE_SIZE = 100\n",
    "NUM_FOR_TRAIN = 50000\n",
    "NUM_FOR_EVAL = 10000\n",
    "\n",
    "\n",
    "train_path = 'fruits/fruits-360/Training/'\n",
    "test_path =  'fruits/fruits-360/Test/'\n",
    "\n",
    "CLASSES = [\"Apple Braeburn\", \"Apple Golden 1\", \"Apple Golden 2\", \"Apple Golden 3\",\n",
    "            \"Apple Granny Smith\", \"Apple Red 1\", \"Apple Red 2\", \"Apple Red 3\",\n",
    "           \"Apple Red Delicious\", \"Apple Red Yellow\", \"Apricot\",\"Avocado\", \"Avocado Ripe\",  \"Banana\", \"Banana Red\", \"Cactus Fruit\",\n",
    "            \"Carambula\", \"Cherry\", \"Clementine\", \"Cocos\",\"Dates\", \"Granadilla\", \"Grape Pink\", \"Grape White\", \"Grape White 2\",\n",
    "            \"Grapefruit Pink\", \"Grapefruit White\",\"Guava\", \"Huckleberry\", \"Kaki\",\"Kiwi\",  \"Kumquats\", \"Lemon\", \"Lemon Meyer\", \"Lime\", \"Lychee\", \"Mandarin\", \"Mango\", \n",
    "            \"Maracuja\",  \"Nectarine\", \"Orange\", \"Papaya\", \"Passion Fruit\", \"Peach\", \"Peach Flat\", \"Pear\", \"Pear Abate\", \"Pear Monster\", \"Pear Williams\",\n",
    "           \"Pepino\", \"Pineapple\", \"Pitahaya Red\", \"Plum\", \"Pomegranate\", \"Quince\", \"Raspberry\",\n",
    "            \"Salak\", \"Strawberry\", \"Tamarillo\", \"Tangelo\"]\n",
    "\n"
   ]
  },
  {
   "cell_type": "code",
   "execution_count": null,
   "metadata": {},
   "outputs": [],
   "source": [
    " \n",
    "def createModel():\n",
    "    model = Sequential()\n",
    "    model.add(Conv2D(32, (3, 3), padding='same', activation='relu', input_shape=(IMAGE_SIZE,IMAGE_SIZE,3)))\n",
    "    model.add(Conv2D(32, (3, 3), activation='relu'))\n",
    "    model.add(MaxPooling2D(pool_size=(2, 2)))\n",
    "    model.add(Dropout(0.25))\n",
    " \n",
    "    model.add(Conv2D(64, (3, 3), padding='same', activation='relu'))\n",
    "    model.add(Conv2D(64, (3, 3), activation='relu'))\n",
    "    model.add(MaxPooling2D(pool_size=(2, 2)))\n",
    "    model.add(Dropout(0.25))\n",
    " \n",
    "    model.add(Conv2D(64, (3, 3), padding='same', activation='relu'))\n",
    "    model.add(Conv2D(64, (3, 3), activation='relu'))\n",
    "    model.add(MaxPooling2D(pool_size=(2, 2)))\n",
    "    model.add(Dropout(0.25))\n",
    " \n",
    "    model.add(Flatten())\n",
    "    model.add(Dense(512, activation='relu'))\n",
    "    model.add(Dropout(0.5))\n",
    "    model.add(Dense(len(CLASSES), activation='softmax'))\n",
    "     \n",
    "    return model"
   ]
  },
  {
   "cell_type": "code",
   "execution_count": 12,
   "metadata": {},
   "outputs": [
    {
     "name": "stdout",
     "output_type": "stream",
     "text": [
      "_________________________________________________________________\n",
      "Layer (type)                 Output Shape              Param #   \n",
      "=================================================================\n",
      "conv2d_7 (Conv2D)            (None, 100, 100, 32)      896       \n",
      "_________________________________________________________________\n",
      "conv2d_8 (Conv2D)            (None, 98, 98, 32)        9248      \n",
      "_________________________________________________________________\n",
      "max_pooling2d_4 (MaxPooling2 (None, 49, 49, 32)        0         \n",
      "_________________________________________________________________\n",
      "dropout_5 (Dropout)          (None, 49, 49, 32)        0         \n",
      "_________________________________________________________________\n",
      "conv2d_9 (Conv2D)            (None, 49, 49, 64)        18496     \n",
      "_________________________________________________________________\n",
      "conv2d_10 (Conv2D)           (None, 47, 47, 64)        36928     \n",
      "_________________________________________________________________\n",
      "max_pooling2d_5 (MaxPooling2 (None, 23, 23, 64)        0         \n",
      "_________________________________________________________________\n",
      "dropout_6 (Dropout)          (None, 23, 23, 64)        0         \n",
      "_________________________________________________________________\n",
      "conv2d_11 (Conv2D)           (None, 23, 23, 64)        36928     \n",
      "_________________________________________________________________\n",
      "conv2d_12 (Conv2D)           (None, 21, 21, 64)        36928     \n",
      "_________________________________________________________________\n",
      "max_pooling2d_6 (MaxPooling2 (None, 10, 10, 64)        0         \n",
      "_________________________________________________________________\n",
      "dropout_7 (Dropout)          (None, 10, 10, 64)        0         \n",
      "_________________________________________________________________\n",
      "flatten_2 (Flatten)          (None, 6400)              0         \n",
      "_________________________________________________________________\n",
      "dense_3 (Dense)              (None, 512)               3277312   \n",
      "_________________________________________________________________\n",
      "dropout_8 (Dropout)          (None, 512)               0         \n",
      "_________________________________________________________________\n",
      "dense_4 (Dense)              (None, 60)                30780     \n",
      "=================================================================\n",
      "Total params: 3,447,516\n",
      "Trainable params: 3,447,516\n",
      "Non-trainable params: 0\n",
      "_________________________________________________________________\n"
     ]
    }
   ],
   "source": [
    "model = createModel()\n",
    "model.summary()"
   ]
  },
  {
   "cell_type": "code",
   "execution_count": 13,
   "metadata": {},
   "outputs": [
    {
     "name": "stdout",
     "output_type": "stream",
     "text": [
      "Found 24988 images belonging to 60 classes.\n",
      "Found 2768 images belonging to 60 classes.\n",
      "Found 9341 images belonging to 60 classes.\n"
     ]
    }
   ],
   "source": [
    "split = ImageDataGenerator(validation_split = 0.1)\n",
    "\n",
    "train_batch = split.flow_from_directory(train_path, subset = 'training', target_size=(IMAGE_SIZE,IMAGE_SIZE),classes=CLASSES, batch_size=100 )\n",
    "validation_batch = split.flow_from_directory(train_path, subset = 'validation', target_size=(IMAGE_SIZE,IMAGE_SIZE),classes=CLASSES, batch_size=100 )\n",
    "test_batch = ImageDataGenerator().flow_from_directory(test_path, target_size=(IMAGE_SIZE,IMAGE_SIZE),classes=CLASSES, batch_size=15 )\n"
   ]
  },
  {
   "cell_type": "code",
   "execution_count": 14,
   "metadata": {},
   "outputs": [],
   "source": [
    "\n",
    "# batch_size = 256\n",
    "# epochs = 100\n",
    "# model.compile(optimizer='rmsprop', loss='categorical_crossentropy', metrics=['accuracy'])\n",
    " \n",
    "# history = model.fit(train_data, train_labels_one_hot, batch_size=batch_size, epochs=epochs, verbose=1, \n",
    "#                    validation_data=(test_data, test_labels_one_hot))\n",
    " \n",
    "# model1.evaluate(test_data, test_labels_one_hot)"
   ]
  },
  {
   "cell_type": "code",
   "execution_count": 15,
   "metadata": {},
   "outputs": [],
   "source": [
    "\n",
    "def plots(ims, figsize=(12,6), rows=1, interp=False, titles=None):\n",
    "    if type(ims[0]) is np.ndarray:\n",
    "        ims = np.array(ims).astype(np.uint8)\n",
    "        if (ims.shape[-1] != 3):\n",
    "            ims = ims.transpose((0,2,3,1))\n",
    "    f = plt.figure(figsize=figsize)\n",
    "    for i in range(len(ims)):\n",
    "        sp = f.add_subplot(rows, len(ims)//rows, i+1)\n",
    "        sp.axis('Off')\n",
    "        if titles is not None:\n",
    "            sp.set_title(titles[i], fontsize=10)\n",
    "            \n",
    "        plt.imshow(ims[i], interpolation=None if interp else 'none')"
   ]
  },
  {
   "cell_type": "code",
   "execution_count": 16,
   "metadata": {},
   "outputs": [],
   "source": [
    "# model = Sequential([Conv2D(32, (4,4), activation='relu', input_shape=(244,244,3)), Flatten(), Dense(len(CLASSES), activation='softmax')])"
   ]
  },
  {
   "cell_type": "code",
   "execution_count": 17,
   "metadata": {},
   "outputs": [],
   "source": [
    "model.compile(Adam(lr=0.1), loss='categorical_crossentropy', metrics=['accuracy'])"
   ]
  },
  {
   "cell_type": "markdown",
   "metadata": {},
   "source": [
    "model.fit_generator(train_batch,steps_per_epoch=2499, validation_data=validation_batch, validation_steps=277, epoch=5, verbose=2)"
   ]
  },
  {
   "cell_type": "code",
   "execution_count": null,
   "metadata": {},
   "outputs": [
    {
     "name": "stdout",
     "output_type": "stream",
     "text": [
      "Epoch 1/100\n",
      " - 3207s - loss: 15.8330 - acc: 0.0176 - val_loss: 15.8328 - val_acc: 0.0177\n",
      "Epoch 2/100\n",
      " - 2359s - loss: 15.8333 - acc: 0.0177 - val_loss: 15.8328 - val_acc: 0.0177\n",
      "Epoch 3/100\n",
      " - 2636s - loss: 15.8338 - acc: 0.0176 - val_loss: 15.8328 - val_acc: 0.0177\n",
      "Epoch 4/100\n",
      " - 4393s - loss: 15.8335 - acc: 0.0177 - val_loss: 15.8328 - val_acc: 0.0177\n",
      "Epoch 5/100\n",
      " - 24404s - loss: 15.8336 - acc: 0.0177 - val_loss: 15.8328 - val_acc: 0.0177\n",
      "Epoch 6/100\n",
      " - 2709s - loss: 15.8337 - acc: 0.0176 - val_loss: 15.8328 - val_acc: 0.0177\n",
      "Epoch 7/100\n",
      " - 1863s - loss: 15.8336 - acc: 0.0177 - val_loss: 15.8328 - val_acc: 0.0177\n",
      "Epoch 8/100\n",
      " - 2053s - loss: 15.8336 - acc: 0.0177 - val_loss: 15.8328 - val_acc: 0.0177\n",
      "Epoch 9/100\n"
     ]
    }
   ],
   "source": [
    "model.fit_generator(train_batch,steps_per_epoch=250, validation_data=validation_batch, validation_steps=28 ,epochs=100, verbose=2)\n",
    "\n"
   ]
  },
  {
   "cell_type": "code",
   "execution_count": 11,
   "metadata": {
    "scrolled": true
   },
   "outputs": [
    {
     "data": {
      "image/png": "[encoded data removed]",
      "text/plain": [
       "<matplotlib.figure.Figure at 0x1fb1039f6a0>"
      ]
     },
     "metadata": {},
     "output_type": "display_data"
    }
   ],
   "source": [
    "# predict\n",
    "test_images, test_labels = next(test_batch)\n",
    "\n",
    "new_labels = []\n",
    "\n",
    "test_labels = test_labels[:]\n",
    "for label in test_labels:\n",
    "    itemindex = np.where(label==1) \n",
    "    new_labels.append(CLASSES[itemindex[0][0]])\n",
    "    \n",
    "plots(test_images, titles=new_labels)\n"
   ]
  },
  {
   "cell_type": "code",
   "execution_count": 12,
   "metadata": {},
   "outputs": [],
   "source": [
    "predictions = model.predict_generator(test_batch, steps=1, verbose=0)"
   ]
  },
  {
   "cell_type": "code",
   "execution_count": null,
   "metadata": {},
   "outputs": [],
   "source": [
    "# LOSS AND ACCURACY MODELS\n",
    "\n",
    "# Loss Curves\n",
    "plt.figure(figsize=[8,6])\n",
    "plt.plot(history2.history['loss'],'r',linewidth=3.0)\n",
    "plt.plot(history2.history['val_loss'],'b',linewidth=3.0)\n",
    "plt.legend(['Training loss', 'Validation Loss'],fontsize=18)\n",
    "plt.xlabel('Epochs ',fontsize=16)\n",
    "plt.ylabel('Loss',fontsize=16)\n",
    "plt.title('Loss Curves',fontsize=16)\n",
    " \n",
    "# Accuracy Curves\n",
    "plt.figure(figsize=[8,6])\n",
    "plt.plot(history2.history['acc'],'r',linewidth=3.0)\n",
    "plt.plot(history2.history['val_acc'],'b',linewidth=3.0)\n",
    "plt.legend(['Training Accuracy', 'Validation Accuracy'],fontsize=18)\n",
    "plt.xlabel('Epochs ',fontsize=16)\n",
    "plt.ylabel('Accuracy',fontsize=16)\n",
    "plt.title('Accuracy Curves',fontsize=16)"
   ]
  },
  {
   "cell_type": "code",
   "execution_count": null,
   "metadata": {},
   "outputs": [],
   "source": [
    "# vgg16 model\n",
    "vgg16_model = keras.applications.vgg16.VGG16()"
   ]
  },
  {
   "cell_type": "code",
   "execution_count": null,
   "metadata": {},
   "outputs": [],
   "source": [
    "vgg16_model.summary()"
   ]
  },
  {
   "cell_type": "code",
   "execution_count": null,
   "metadata": {},
   "outputs": [],
   "source": [
    "vgg16_model"
   ]
  },
  {
   "cell_type": "code",
   "execution_count": null,
   "metadata": {},
   "outputs": [],
   "source": [
    "type(vgg16_model)\n"
   ]
  },
  {
   "cell_type": "code",
   "execution_count": null,
   "metadata": {},
   "outputs": [],
   "source": [
    "model = Sequential()\n",
    "for layer in vgg16_model.layers:\n",
    "    model.add(layer)"
   ]
  },
  {
   "cell_type": "code",
   "execution_count": null,
   "metadata": {},
   "outputs": [],
   "source": [
    "# take off last layer to change from 1000 outputs to 60 (number of fruits)\n",
    "\n",
    "model.layers.pop()"
   ]
  },
  {
   "cell_type": "code",
   "execution_count": null,
   "metadata": {},
   "outputs": [],
   "source": [
    "model.summary()\n",
    "for layer in model.layers:\n",
    "    layer.trainable = False"
   ]
  },
  {
   "cell_type": "code",
   "execution_count": null,
   "metadata": {},
   "outputs": [],
   "source": [
    "# add dense layer with 60 outputs\n",
    "model.add(Dense(60, activation='softmax'))\n",
    "\n",
    "model.summary()"
   ]
  },
  {
   "cell_type": "code",
   "execution_count": null,
   "metadata": {},
   "outputs": [],
   "source": [
    "# using vgg16 model\n",
    "\n",
    "model.compile(Adam(lr=0.0001), loss='categorical_crossentropy', metrics=['accuracy'])"
   ]
  },
  {
   "cell_type": "code",
   "execution_count": null,
   "metadata": {},
   "outputs": [],
   "source": [
    "model.fit_generator(train_batch,steps_per_epoch=250, validation_data=validation_batch, validation_steps=28, epochs=2, verbose=2)"
   ]
  },
  {
   "cell_type": "markdown",
   "metadata": {},
   "source": []
  }
 ],
 "metadata": {
  "kernelspec": {
   "display_name": "Python 3",
   "language": "python",
   "name": "python3"
  },
  "language_info": {
   "codemirror_mode": {
    "name": "ipython",
    "version": 3
   },
   "file_extension": ".py",
   "mimetype": "text/x-python",
   "name": "python",
   "nbconvert_exporter": "python",
   "pygments_lexer": "ipython3",
   "version": "3.6.5"
  }
 },
 "nbformat": 4,
 "nbformat_minor": 2
}
